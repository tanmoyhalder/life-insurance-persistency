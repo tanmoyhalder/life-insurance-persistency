{
 "cells": [
  {
   "attachments": {},
   "cell_type": "markdown",
   "metadata": {},
   "source": [
    "#### Introduction"
   ]
  },
  {
   "attachments": {},
   "cell_type": "markdown",
   "metadata": {},
   "source": [
    "In this notebook, we are going to discuss about the model registry. We have two models - xgboost and randomforest. We need to register the model to mlflow and from there we can migrate the models to production/ staging/ archive.\n",
    "\n",
    "We can do this using the mlflow ui as well, but for automation, it is better to use code. This will also be useful while deploying the best model in next iterations. For this we will use the mlflow client class. We can do all the things that we can do using the UI. Basically, the client  is required to interact with the mlflow server. Let's start"
   ]
  },
  {
   "cell_type": "code",
   "execution_count": 1,
   "metadata": {},
   "outputs": [],
   "source": [
    "from mlflow.tracking import MlflowClient"
   ]
  },
  {
   "attachments": {},
   "cell_type": "markdown",
   "metadata": {},
   "source": [
    "##### Initiate an instance of the client"
   ]
  },
  {
   "cell_type": "code",
   "execution_count": 2,
   "metadata": {},
   "outputs": [],
   "source": [
    "MLFLOW_TRACKING_URI = \"sqlite:///mlflow.db\"\n",
    "client = MlflowClient(tracking_uri= MLFLOW_TRACKING_URI)"
   ]
  },
  {
   "attachments": {},
   "cell_type": "markdown",
   "metadata": {},
   "source": [
    "Let's check the list of experiments"
   ]
  },
  {
   "cell_type": "code",
   "execution_count": 3,
   "metadata": {},
   "outputs": [
    {
     "data": {
      "text/plain": [
       "[<Experiment: artifact_location='./mlruns/1', creation_time=1673260171550, experiment_id='1', last_update_time=1673260171550, lifecycle_stage='active', name='persistency-prediction-experiment', tags={'mlflow.note.content': 'This experiment is for running different trials for '\n",
       "                         'predicting whether a customer will pay the renewal '\n",
       "                         'premium for 1st year of a term life insurance.'}>]"
      ]
     },
     "execution_count": 3,
     "metadata": {},
     "output_type": "execute_result"
    }
   ],
   "source": [
    "client.search_experiments()"
   ]
  },
  {
   "attachments": {},
   "cell_type": "markdown",
   "metadata": {},
   "source": [
    "##### Get the best result runs\n",
    "\n",
    "Now, we want to find out the best results based on some filter criteria (highest recall) and also tags"
   ]
  },
  {
   "cell_type": "code",
   "execution_count": 5,
   "metadata": {},
   "outputs": [],
   "source": [
    "from mlflow.entities import ViewType\n",
    "\n",
    "runs = client.search_runs(\n",
    "    experiment_ids= '1',\n",
    "    filter_string= \"tags.type = 'xgboost-sklearn final'\",\n",
    "    run_view_type= ViewType.ACTIVE_ONLY,\n",
    "    max_results= 5,\n",
    "    order_by= [\"metrics.recall DESC\"]\n",
    ")"
   ]
  },
  {
   "cell_type": "code",
   "execution_count": 6,
   "metadata": {},
   "outputs": [
    {
     "name": "stdout",
     "output_type": "stream",
     "text": [
      "run id: 51f002c6c39e4baaae119815cb262aca, recall: 0.8137\n"
     ]
    }
   ],
   "source": [
    "for run in runs:\n",
    "    print(f\"run id: {run.info.run_id}, recall: {run.data.metrics['recall']:.4f}\")"
   ]
  },
  {
   "attachments": {},
   "cell_type": "markdown",
   "metadata": {},
   "source": [
    "We know that `run id: b878a2ba0b834edea0a44cf6935f4dc0` is for the **xgboost** model and `run id: 0a64c24edd994328b2a0e2749272b48c` is for the **randomforest** model.\n",
    "Let's now register the models\n"
   ]
  },
  {
   "cell_type": "code",
   "execution_count": 8,
   "metadata": {},
   "outputs": [],
   "source": [
    "import mlflow\n",
    "\n",
    "mlflow.set_tracking_uri(MLFLOW_TRACKING_URI)"
   ]
  },
  {
   "attachments": {},
   "cell_type": "markdown",
   "metadata": {},
   "source": [
    "#### For xgboost model"
   ]
  },
  {
   "cell_type": "code",
   "execution_count": 9,
   "metadata": {},
   "outputs": [
    {
     "name": "stderr",
     "output_type": "stream",
     "text": [
      "Registered model 'persistency-prediction-classifier' already exists. Creating a new version of this model...\n",
      "2023/01/26 17:40:54 INFO mlflow.tracking._model_registry.client: Waiting up to 300 seconds for model version to finish creation.                     Model name: persistency-prediction-classifier, version 4\n",
      "Created version '4' of model 'persistency-prediction-classifier'.\n"
     ]
    },
    {
     "data": {
      "text/plain": [
       "<ModelVersion: creation_timestamp=1674735054453, current_stage='None', description=None, last_updated_timestamp=1674735054453, name='persistency-prediction-classifier', run_id='51f002c6c39e4baaae119815cb262aca', run_link=None, source='./mlruns/1/51f002c6c39e4baaae119815cb262aca/artifacts/model', status='READY', status_message=None, tags={}, user_id=None, version=4>"
      ]
     },
     "execution_count": 9,
     "metadata": {},
     "output_type": "execute_result"
    }
   ],
   "source": [
    "run_id = run.info.run_id\n",
    "MODEL_URI = f\"runs:/{run_id}/model\"\n",
    "\n",
    "mlflow.register_model(model_uri= MODEL_URI, name = 'persistency-prediction-classifier')"
   ]
  },
  {
   "attachments": {},
   "cell_type": "markdown",
   "metadata": {},
   "source": [
    "#### For Randomforest Model"
   ]
  },
  {
   "cell_type": "code",
   "execution_count": 59,
   "metadata": {},
   "outputs": [
    {
     "name": "stderr",
     "output_type": "stream",
     "text": [
      "Registered model 'persistency-prediction-classifier' already exists. Creating a new version of this model...\n",
      "2023/01/11 22:57:10 INFO mlflow.tracking._model_registry.client: Waiting up to 300 seconds for model version to finish creation.                     Model name: persistency-prediction-classifier, version 3\n",
      "Created version '3' of model 'persistency-prediction-classifier'.\n"
     ]
    }
   ],
   "source": [
    "run_id = '0a64c24edd994328b2a0e2749272b48c'\n",
    "MODEL_URI = f\"runs:/{run_id}/model\"\n",
    "\n",
    "mlflow.register_model(model_uri= MODEL_URI, name = 'persistency-prediction-classifier')"
   ]
  },
  {
   "attachments": {},
   "cell_type": "markdown",
   "metadata": {},
   "source": [
    "#### Let's check the latest versions of the registered model"
   ]
  },
  {
   "cell_type": "code",
   "execution_count": 12,
   "metadata": {},
   "outputs": [
    {
     "name": "stdout",
     "output_type": "stream",
     "text": [
      "name: persistency-prediction-classifier\n",
      "latest version: 4\n",
      "run_id: 51f002c6c39e4baaae119815cb262aca\n",
      "current_stage: None\n"
     ]
    }
   ],
   "source": [
    "MODEL_NAME = 'persistency-prediction-classifier'\n",
    "latest_versions = client.get_latest_versions(name = MODEL_NAME, stages= [\"None\"])\n",
    "\n",
    "for version in latest_versions:\n",
    "    print(f\"name: {version.name}\")\n",
    "    print(f\"latest version: {version.version}\")\n",
    "    print(f\"run_id: {version.run_id}\")\n",
    "    print(f\"current_stage: {version.current_stage}\")"
   ]
  },
  {
   "attachments": {},
   "cell_type": "markdown",
   "metadata": {},
   "source": [
    "#### Moving xgboost model `version 1` to `Production`"
   ]
  },
  {
   "cell_type": "code",
   "execution_count": 50,
   "metadata": {},
   "outputs": [
    {
     "data": {
      "text/plain": [
       "<ModelVersion: creation_timestamp=1673454908705, current_stage='Production', description=None, last_updated_timestamp=1673457117476, name='persistency-prediction-classifier', run_id='b878a2ba0b834edea0a44cf6935f4dc0', run_link=None, source='./mlruns/1/b878a2ba0b834edea0a44cf6935f4dc0/artifacts/model', status='READY', status_message=None, tags={}, user_id=None, version=1>"
      ]
     },
     "execution_count": 50,
     "metadata": {},
     "output_type": "execute_result"
    }
   ],
   "source": [
    "MODEL_VERSION = 1\n",
    "NEW_STAGE = \"Production\"\n",
    "client.transition_model_version_stage(name = MODEL_NAME,\n",
    "                                    version = MODEL_VERSION,\n",
    "                                    stage= NEW_STAGE,\n",
    "                                    archive_existing_versions= False)"
   ]
  },
  {
   "attachments": {},
   "cell_type": "markdown",
   "metadata": {},
   "source": [
    "#### Moving xgboost model `version 2` to `Staging`"
   ]
  },
  {
   "cell_type": "code",
   "execution_count": 51,
   "metadata": {},
   "outputs": [
    {
     "data": {
      "text/plain": [
       "<ModelVersion: creation_timestamp=1673456026710, current_stage='Staging', description=None, last_updated_timestamp=1673457150555, name='persistency-prediction-classifier', run_id='0a64c24edd994328b2a0e2749272b48c', run_link=None, source='./mlruns/1/0a64c24edd994328b2a0e2749272b48c/artifacts/model', status='READY', status_message=None, tags={}, user_id=None, version=2>"
      ]
     },
     "execution_count": 51,
     "metadata": {},
     "output_type": "execute_result"
    }
   ],
   "source": [
    "MODEL_VERSION = 2\n",
    "NEW_STAGE = \"Staging\"\n",
    "\n",
    "client.transition_model_version_stage(name = MODEL_NAME,\n",
    "                                    version = MODEL_VERSION,\n",
    "                                    stage= NEW_STAGE,\n",
    "                                    archive_existing_versions= False)"
   ]
  },
  {
   "attachments": {},
   "cell_type": "markdown",
   "metadata": {},
   "source": [
    "#### Adding descrptions to the model versions"
   ]
  },
  {
   "cell_type": "code",
   "execution_count": 57,
   "metadata": {},
   "outputs": [
    {
     "data": {
      "text/plain": [
       "<ModelVersion: creation_timestamp=1673454908705, current_stage='Production', description=('This is the xgboost model with recall 0.832 and this model version '\n",
       " \"<ModelVersion: creation_timestamp=1673456026710, current_stage='None', \"\n",
       " 'description=None, last_updated_timestamp=1673456026710, '\n",
       " \"name='persistency-prediction-classifier', \"\n",
       " \"run_id='0a64c24edd994328b2a0e2749272b48c', run_link=None, \"\n",
       " \"source='./mlruns/1/0a64c24edd994328b2a0e2749272b48c/artifacts/model', \"\n",
       " \"status='READY', status_message=None, tags={}, user_id=None, version=2> was \"\n",
       " 'transitioned to Production on 2023-01-11'), last_updated_timestamp=1673457601648, name='persistency-prediction-classifier', run_id='b878a2ba0b834edea0a44cf6935f4dc0', run_link=None, source='./mlruns/1/b878a2ba0b834edea0a44cf6935f4dc0/artifacts/model', status='READY', status_message=None, tags={}, user_id=None, version=1>"
      ]
     },
     "execution_count": 57,
     "metadata": {},
     "output_type": "execute_result"
    }
   ],
   "source": [
    "from datetime import datetime\n",
    "MODEL_VERSION = 1\n",
    "CHANGE_DATE = datetime.today().date()\n",
    "\n",
    "client.update_model_version(\n",
    "    name = MODEL_NAME,\n",
    "    version= MODEL_VERSION,\n",
    "    description= f\"This is the xgboost model with recall 0.832 and this model version {version} was transitioned to Production on {CHANGE_DATE}\"\n",
    ")"
   ]
  },
  {
   "cell_type": "code",
   "execution_count": 64,
   "metadata": {},
   "outputs": [
    {
     "data": {
      "text/plain": [
       "<ModelVersion: creation_timestamp=1673456026710, current_stage='Staging', description=('This is the randomforest model with recall 0.809 and this model version '\n",
       " \"<ModelVersion: creation_timestamp=1673456026710, current_stage='None', \"\n",
       " 'description=None, last_updated_timestamp=1673456026710, '\n",
       " \"name='persistency-prediction-classifier', \"\n",
       " \"run_id='0a64c24edd994328b2a0e2749272b48c', run_link=None, \"\n",
       " \"source='./mlruns/1/0a64c24edd994328b2a0e2749272b48c/artifacts/model', \"\n",
       " \"status='READY', status_message=None, tags={}, user_id=None, version=2> was \"\n",
       " 'transitioned to Stagiing on 2023-01-11'), last_updated_timestamp=1673458485106, name='persistency-prediction-classifier', run_id='0a64c24edd994328b2a0e2749272b48c', run_link=None, source='./mlruns/1/0a64c24edd994328b2a0e2749272b48c/artifacts/model', status='READY', status_message=None, tags={}, user_id=None, version=2>"
      ]
     },
     "execution_count": 64,
     "metadata": {},
     "output_type": "execute_result"
    }
   ],
   "source": [
    "MODEL_VERSION = 2\n",
    "CHANGE_DATE = datetime.today().date()\n",
    "\n",
    "client.update_model_version(\n",
    "    name = MODEL_NAME,\n",
    "    version= MODEL_VERSION,\n",
    "    description= f\"This is the randomforest model with recall 0.809 and this model version {version} was transitioned to Stagiing on {CHANGE_DATE}\"\n",
    ")"
   ]
  },
  {
   "attachments": {},
   "cell_type": "markdown",
   "metadata": {},
   "source": [
    "#### Moving xgboost model `version 4` to `Production`"
   ]
  },
  {
   "cell_type": "code",
   "execution_count": 17,
   "metadata": {},
   "outputs": [
    {
     "name": "stdout",
     "output_type": "stream",
     "text": [
      "4\n"
     ]
    }
   ],
   "source": [
    "for version in latest_versions:\n",
    "    LATEST_VERSION = version.version\n",
    "    print(LATEST_VERSION)\n"
   ]
  },
  {
   "cell_type": "code",
   "execution_count": 18,
   "metadata": {},
   "outputs": [
    {
     "data": {
      "text/plain": [
       "<ModelVersion: creation_timestamp=1674735054453, current_stage='Production', description=None, last_updated_timestamp=1674735428967, name='persistency-prediction-classifier', run_id='51f002c6c39e4baaae119815cb262aca', run_link=None, source='./mlruns/1/51f002c6c39e4baaae119815cb262aca/artifacts/model', status='READY', status_message=None, tags={}, user_id=None, version=4>"
      ]
     },
     "execution_count": 18,
     "metadata": {},
     "output_type": "execute_result"
    }
   ],
   "source": [
    "for version in latest_versions:\n",
    "    LATEST_VERSION = version.version\n",
    "\n",
    "MODEL_VERSION = LATEST_VERSION\n",
    "NEW_STAGE = \"Production\"\n",
    "client.transition_model_version_stage(name = MODEL_NAME,\n",
    "                                    version = MODEL_VERSION,\n",
    "                                    stage= NEW_STAGE,\n",
    "                                    archive_existing_versions= True)"
   ]
  },
  {
   "cell_type": "code",
   "execution_count": 20,
   "metadata": {},
   "outputs": [],
   "source": [
    "from datetime import datetime"
   ]
  },
  {
   "cell_type": "code",
   "execution_count": 21,
   "metadata": {},
   "outputs": [
    {
     "data": {
      "text/plain": [
       "<ModelVersion: creation_timestamp=1674735054453, current_stage='Production', description=('This is the xgboost model with scikit learn wrapper with recall 0.8137 and '\n",
       " 'this model version <ModelVersion: creation_timestamp=1674735054453, '\n",
       " \"current_stage='None', description=None, \"\n",
       " 'last_updated_timestamp=1674735054453, '\n",
       " \"name='persistency-prediction-classifier', \"\n",
       " \"run_id='51f002c6c39e4baaae119815cb262aca', run_link=None, \"\n",
       " \"source='./mlruns/1/51f002c6c39e4baaae119815cb262aca/artifacts/model', \"\n",
       " \"status='READY', status_message=None, tags={}, user_id=None, version=4> was \"\n",
       " 'transitioned to Production on 2023-01-26'), last_updated_timestamp=1674736031641, name='persistency-prediction-classifier', run_id='51f002c6c39e4baaae119815cb262aca', run_link=None, source='./mlruns/1/51f002c6c39e4baaae119815cb262aca/artifacts/model', status='READY', status_message=None, tags={}, user_id=None, version=4>"
      ]
     },
     "execution_count": 21,
     "metadata": {},
     "output_type": "execute_result"
    }
   ],
   "source": [
    "MODEL_VERSION = LATEST_VERSION\n",
    "CHANGE_DATE = datetime.today().date()\n",
    "\n",
    "client.update_model_version(\n",
    "    name = MODEL_NAME,\n",
    "    version= MODEL_VERSION,\n",
    "    description= f\"This is the xgboost model with scikit learn wrapper with recall 0.8137 and this model version {version} was transitioned to Production on {CHANGE_DATE}\"\n",
    ")"
   ]
  },
  {
   "cell_type": "markdown",
   "metadata": {},
   "source": []
  }
 ],
 "metadata": {
  "kernelspec": {
   "display_name": "Persistency-fo3amxwL",
   "language": "python",
   "name": "python3"
  },
  "language_info": {
   "codemirror_mode": {
    "name": "ipython",
    "version": 3
   },
   "file_extension": ".py",
   "mimetype": "text/x-python",
   "name": "python",
   "nbconvert_exporter": "python",
   "pygments_lexer": "ipython3",
   "version": "3.8.8"
  },
  "orig_nbformat": 4,
  "vscode": {
   "interpreter": {
    "hash": "8b1331eaecbea1bb1121a8441a5893a9fe826dcb8cbb4f9ece883bb1402df7ea"
   }
  }
 },
 "nbformat": 4,
 "nbformat_minor": 2
}
